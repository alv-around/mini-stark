{
 "cells": [
  {
   "cell_type": "markdown",
   "id": "5fc13423-be73-4f06-a6bf-6ffb2557106d",
   "metadata": {},
   "source": [
    "## Trace Example: fibonacci computation"
   ]
  },
  {
   "cell_type": "code",
   "execution_count": 2,
   "id": "1ef0298f-991c-4fd6-afa4-f0a7fdeab13f",
   "metadata": {},
   "outputs": [
    {
     "name": "stdout",
     "output_type": "stream",
     "text": [
      "Computation Trace:\n",
      "Step 0: (1, 1)\n",
      "Step 1: (1, 2)\n",
      "Step 2: (2, 3)\n",
      "Step 3: (3, 5)\n",
      "Step 4: (5, 8)\n"
     ]
    }
   ],
   "source": [
    "# Initialize the finite field (e.g., GF(17))\n",
    "p = 101\n",
    "F = GF(p)\n",
    "trace = [(F(1), F(1))]  # Initial state (a₀, a₁)\n",
    "\n",
    "# Generate the computation trace\n",
    "steps = 4  # Produces 5 rows (steps 0 to 4)\n",
    "for _ in range(steps):\n",
    "    a, b = trace[-1]\n",
    "    next_a = b\n",
    "    next_b = a + b\n",
    "    trace.append((next_a, next_b))\n",
    "\n",
    "print(\"Computation Trace:\")\n",
    "for i, (a, b) in enumerate(trace):\n",
    "    print(f\"Step {i}: ({a}, {b})\")"
   ]
  },
  {
   "cell_type": "markdown",
   "id": "fa47638b-077a-4463-8da4-ff5728ae9453",
   "metadata": {},
   "source": [
    "## Calculate Boundary Quotients"
   ]
  },
  {
   "cell_type": "code",
   "execution_count": 3,
   "id": "8d578b9e-a95f-4907-aced-bebc9dad5d49",
   "metadata": {},
   "outputs": [
    {
     "name": "stdout",
     "output_type": "stream",
     "text": [
      "A(x) = 20*x^3 + 25*x^2 + 30*x + 27\n",
      "B(x) = 93*x^3 + 75*x^2 + 7*x + 28\n",
      "bound_quoA(x) = 20*x^2 + 45*x + 75\n",
      "bound_quoB(x) = 93*x^2 + 67*x + 74\n"
     ]
    }
   ],
   "source": [
    "R.<x> = PolynomialRing(F)\n",
    "omega = F.multiplicative_generator() ^ ((p-1) // steps)\n",
    "domain = [omega ^ i for i in range(steps)]\n",
    "Z = prod([(x-root) for root in domain])\n",
    "assert Z == (x^4 - 1)\n",
    "\n",
    "\n",
    "# Interpolate polynomials for columns A and B\n",
    "A_values = [row[0] for row in trace]\n",
    "B_values = [row[1] for row in trace]\n",
    "\n",
    "# trace polynomials\n",
    "A_poly = R.lagrange_polynomial(zip(domain, A_values))\n",
    "B_poly = R.lagrange_polynomial(zip(domain, B_values))\n",
    "\n",
    "print(\"A(x) =\", A_poly)\n",
    "print(\"B(x) =\", B_poly)\n",
    "\n",
    "# substract boundary polys to trace polys\n",
    "boundary_a, boundary_b = trace[0] \n",
    "boundaryA_poly = A_poly - R.lagrange_polynomial(zip([domain[0]],[boundary_a]))\n",
    "boundaryB_poly = B_poly - R.lagrange_polynomial(zip([domain[0]],[boundary_b]))\n",
    "\n",
    "(boundaryA_quotients, rest) = boundaryA_poly.quo_rem((x-domain[0]))\n",
    "assert rest == 0\n",
    "(boundaryB_quotients, rest) = boundaryB_poly.quo_rem((x-domain[0]))\n",
    "assert rest == 0\n",
    "\n",
    "print(\"bound_quoA(x) =\", boundaryA_quotients)\n",
    "print(\"bound_quoB(x) =\", boundaryB_quotients)"
   ]
  },
  {
   "cell_type": "markdown",
   "id": "6a6b24b0-f12b-48ed-900a-cec3fee47928",
   "metadata": {},
   "source": [
    "## Calculate transition quotiones"
   ]
  },
  {
   "cell_type": "code",
   "execution_count": 8,
   "id": "57a9aa00-3adf-413a-b523-01fe2fe12b7d",
   "metadata": {},
   "outputs": [
    {
     "name": "stdout",
     "output_type": "stream",
     "text": [
      "68*x^3 + 27*x^2 + 33*x + 74 9*x^3 + 44*x^2 + 33*x + 23\n"
     ]
    },
    {
     "ename": "AssertionError",
     "evalue": "",
     "output_type": "error",
     "traceback": [
      "\u001b[0;31m---------------------------------------------------------------------------\u001b[0m",
      "\u001b[0;31mAssertionError\u001b[0m                            Traceback (most recent call last)",
      "Cell \u001b[0;32mIn[8], line 6\u001b[0m\n\u001b[1;32m      4\u001b[0m SUM_poly_2 \u001b[38;5;241m=\u001b[39m  omega \u001b[38;5;241m*\u001b[39m B_poly(x) \u001b[38;5;241m-\u001b[39m (A_poly(x) \u001b[38;5;241m+\u001b[39m B_poly(x))\n\u001b[1;32m      5\u001b[0m \u001b[38;5;28mprint\u001b[39m(SUM_poly, SUM_poly_2)\n\u001b[0;32m----> 6\u001b[0m \u001b[38;5;28;01massert\u001b[39;00m SUM_poly \u001b[38;5;241m==\u001b[39m SUM_poly_2\n\u001b[1;32m      8\u001b[0m TRANSITION_poly \u001b[38;5;241m=\u001b[39m NEXT_poly(x) \u001b[38;5;241m+\u001b[39m SUM_poly(x)\n\u001b[1;32m     10\u001b[0m \u001b[38;5;28;01mfor\u001b[39;00m w \u001b[38;5;129;01min\u001b[39;00m domain[:\u001b[38;5;241m-\u001b[39mInteger(\u001b[38;5;241m1\u001b[39m)]:\n",
      "\u001b[0;31mAssertionError\u001b[0m: "
     ]
    }
   ],
   "source": [
    "## transition polynomials\n",
    "NEXT_poly= A_poly(omega * x) - B_poly(x)\n",
    "SUM_poly = B_poly(omega * x) - (A_poly(x) + B_poly(x))\n",
    "\n",
    "\n",
    "TRANSITION_poly = NEXT_poly(x) + SUM_poly(x)\n",
    "\n",
    "for w in domain[:-1]:\n",
    "    assert NEXT_poly(w) == 0 and SUM_poly(w) == 0\n"
   ]
  },
  {
   "cell_type": "markdown",
   "id": "cad90ad3-ea3e-446b-b276-6ffeb57b024e",
   "metadata": {},
   "source": [
    "## Verification"
   ]
  },
  {
   "cell_type": "code",
   "execution_count": 5,
   "id": "d5083b3c-8af4-4ac3-87da-646be9890843",
   "metadata": {},
   "outputs": [],
   "source": [
    "# verification\n",
    "Z = (x^4 - 1)\n",
    "\n",
    "# verify boundaries\n",
    "# 2. The verifier checks that tw(X) evaluates to e in οi for all (i,w,e)∈B.\n",
    "assert  boundaryA_poly.quo_rem((x-domain[0]))[1] == 0 and boundaryA_poly.quo_rem((x-domain[0]))[1] == 0\n",
    "\n",
    "# transition constrains\n",
    "# 5. The verifier checks that the transition polynomials c(X) evaluate to zero in {οi|i∈{0,…,T−2}}\n",
    "Z /= (x - domain[-1])\n",
    "assert NEXT_poly.quo_rem(Z)[1] == 0 and SUM_poly.quo_rem(Z)[1] == 0\n",
    "\n"
   ]
  },
  {
   "cell_type": "code",
   "execution_count": null,
   "id": "fb36874d-e696-4361-aeec-3a41a0c9cfe7",
   "metadata": {},
   "outputs": [],
   "source": []
  }
 ],
 "metadata": {
  "kernelspec": {
   "display_name": "SageMath 10.5",
   "language": "sage",
   "name": "sagemath"
  },
  "language_info": {
   "codemirror_mode": {
    "name": "ipython",
    "version": 3
   },
   "file_extension": ".py",
   "mimetype": "text/x-python",
   "name": "python",
   "nbconvert_exporter": "python",
   "pygments_lexer": "ipython3",
   "version": "3.13.1"
  }
 },
 "nbformat": 4,
 "nbformat_minor": 5
}
