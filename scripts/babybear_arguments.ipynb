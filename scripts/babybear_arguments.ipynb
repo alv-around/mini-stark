{
 "cells": [
  {
   "cell_type": "markdown",
   "id": "3aad71c8-2ca8-46a6-9f72-9dd78b372e8d",
   "metadata": {},
   "source": [
    "# Baby Bear Finite Field\n",
    "\n",
    "The information in the comming cells was mainly take from [here](https://eprint.iacr.org/2023/824.pdf)"
   ]
  },
  {
   "cell_type": "code",
   "execution_count": 1,
   "id": "4998d725-cb5f-41fd-bcf7-a5a2b0477c9d",
   "metadata": {},
   "outputs": [
    {
     "name": "stdout",
     "output_type": "stream",
     "text": [
      "baby bear subgroup generator: 440564289\n",
      "11\n"
     ]
    }
   ],
   "source": [
    "p = 2^31 - 2^27 + 1\n",
    "BabyBear = GF(p)\n",
    "bb_G = BabyBear.multiplicative_generator() ^ ((p-1) / 2^27)\n",
    "print(f\"baby bear subgroup generator: {bb_G}\")\n",
    "\n",
    "def get_smallest_nonresidue(Fp: GF):\n",
    "    minus_one = Fp(-1)\n",
    "    for a in Primes():\n",
    "        residue_value = Fp(a) ^ (minus_one / 2)\n",
    "        if residue_value == -1:\n",
    "            return Fp(a)\n",
    "    \n",
    "    \n",
    "bb_non_residue = get_smallest_nonresidue(BabyBear)\n",
    "print(bb_non_residue)"
   ]
  },
  {
   "cell_type": "markdown",
   "id": "3b17fd8d-c0d1-4807-a80d-a82829fb254b",
   "metadata": {},
   "source": [
    "## Quadratic Extension ($\\mathbb{F}_{p^2}$)"
   ]
  },
  {
   "cell_type": "markdown",
   "id": "b7865216-b0c1-476c-94c6-2f9b01b4f150",
   "metadata": {},
   "source": [
    "Second term of Frobenius map for $\\mathbb{F}_{p^2}$"
   ]
  },
  {
   "cell_type": "code",
   "execution_count": 2,
   "id": "511fd7fc-efe6-49e9-9ad5-aae481660e50",
   "metadata": {},
   "outputs": [
    {
     "data": {
      "text/plain": [
       "2013265920"
      ]
     },
     "execution_count": 2,
     "metadata": {},
     "output_type": "execute_result"
    }
   ],
   "source": [
    "bb_non_residue ^ ((p-1) / 2)"
   ]
  },
  {
   "cell_type": "code",
   "execution_count": 3,
   "id": "b83f83e3-1e2b-4a9f-b326-cc26647707e5",
   "metadata": {},
   "outputs": [
    {
     "data": {
      "text/plain": [
       "Finite Field in u of size 2013265921^2"
      ]
     },
     "execution_count": 3,
     "metadata": {},
     "output_type": "execute_result"
    }
   ],
   "source": [
    "# Fp2\n",
    "_.<x> = BabyBear[]\n",
    "BabyBear_Fp2.<u> = BabyBear.extension(x^2 - bb_non_residue)\n",
    "BabyBear_Fp2"
   ]
  },
  {
   "cell_type": "markdown",
   "id": "ce21ea15-bc9b-4e6f-9dbe-0d074f6ac623",
   "metadata": {},
   "source": [
    "## Quatric Extension ($\\mathbb{F}_{p^4}$)\n",
    "\n",
    "Given how $\\mathbb{F}_{p^4}$ is implemented in ark:"
   ]
  },
  {
   "cell_type": "code",
   "execution_count": 4,
   "id": "c3152764-bd87-47cc-a0ce-f6b8138a11f6",
   "metadata": {},
   "outputs": [
    {
     "data": {
      "text/plain": [
       "u + 2013265910"
      ]
     },
     "execution_count": 4,
     "metadata": {},
     "output_type": "execute_result"
    }
   ],
   "source": [
    "bb_p2_non_residue = u - bb_non_residue\n",
    "bb_p2_non_residue"
   ]
  },
  {
   "cell_type": "code",
   "execution_count": 7,
   "id": "91270a9f-ad2e-4baf-86fe-d9051aa7abd6",
   "metadata": {},
   "outputs": [
    {
     "name": "stdout",
     "output_type": "stream",
     "text": [
      "1\n",
      "1728404513\n",
      "2013265920\n",
      "284861408\n"
     ]
    }
   ],
   "source": [
    "for i in range(4):\n",
    "    print(bb_non_residue ^ ((p^i-1)/4))\n",
    "   "
   ]
  },
  {
   "cell_type": "code",
   "execution_count": null,
   "id": "1adef720-2f36-4254-854f-f66a97207d6f",
   "metadata": {},
   "outputs": [],
   "source": []
  }
 ],
 "metadata": {
  "kernelspec": {
   "display_name": "SageMath 10.6",
   "language": "sage",
   "name": "sagemath"
  },
  "language_info": {
   "codemirror_mode": {
    "name": "ipython",
    "version": 3
   },
   "file_extension": ".py",
   "mimetype": "text/x-python",
   "name": "python",
   "nbconvert_exporter": "python",
   "pygments_lexer": "ipython3",
   "version": "3.13.3"
  }
 },
 "nbformat": 4,
 "nbformat_minor": 5
}
